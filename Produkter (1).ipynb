{
 "cells": [
  {
   "cell_type": "code",
   "execution_count": 3,
   "id": "b0be34a0-d414-4307-a21b-7b58c89d88ce",
   "metadata": {},
   "outputs": [
    {
     "name": "stdout",
     "output_type": "stream",
     "text": [
      "\n",
      "1 lägg till.\n",
      "2 uppdatera pris.\n",
      "3 ta bort.\n",
      "4 visa.\n",
      "5 avsluta.\n"
     ]
    },
    {
     "name": "stdin",
     "output_type": "stream",
     "text": [
      "\n",
      "skriv in dit val:  4\n"
     ]
    },
    {
     "name": "stdout",
     "output_type": "stream",
     "text": [
      "Dammsugare : 20\n",
      "Kanelbulle : 25\n",
      "\n",
      "1 lägg till.\n",
      "2 uppdatera pris.\n",
      "3 ta bort.\n",
      "4 visa.\n",
      "5 avsluta.\n"
     ]
    },
    {
     "name": "stdin",
     "output_type": "stream",
     "text": [
      "\n",
      "skriv in dit val:  5\n"
     ]
    },
    {
     "name": "stdout",
     "output_type": "stream",
     "text": [
      "\n",
      "Programmet avsultas, hejdå!\n"
     ]
    }
   ],
   "source": [
    "produkter={\n",
    "    \"Dammsugare\":20,\n",
    "    \"Kanelbulle\":25\n",
    "}\n",
    "while True:\n",
    "    try:\n",
    "        print(\"\\n1 lägg till.\\n2 uppdatera pris.\\n3 ta bort.\\n4 visa.\\n5 avsluta.\")\n",
    "        val=int(input(\"\\nskriv in dit val: \"))\n",
    "        if val==1:\n",
    "            try:\n",
    "                tillägg=input(\"\\nVad vill du lägga till: \").capitalize()\n",
    "                pris=int(input(f\"Vilket pris vill du ge {tillägg}?: \"))\n",
    "                produkter[tillägg]=pris\n",
    "                print(f\"{tillägg} ({pris}kr) är tillagd\")\n",
    "            except ValueError:\n",
    "                print(\"Priset måste anges i heltal.\")\n",
    "        elif val==2:\n",
    "            try:\n",
    "                produkt=input(\"\\nVilken produkt vill du uppdatera priset på?: \").capitalize()\n",
    "                pris=int(input(\"\\nAnge nya priset: \"))\n",
    "                produkter[produkt]=pris\n",
    "                print(f\"{produkt} har nytt pris: {pris}kr\")\n",
    "            except ValueError:\n",
    "                print(\"\\nPriset måste anges i heltal.\")\n",
    "        elif val==3:\n",
    "            ta_bort=input(\"\\nVilken produkt vill du ta bort?: \").capitalize()\n",
    "            if ta_bort in produkt:\n",
    "                del produkter[ta_bort]\n",
    "                print(f\"{ta_bort} är borttagen\")\n",
    "            else:\n",
    "                print(f\"{ta_bort} finns inte.\")\n",
    "        elif val==4:\n",
    "            for produkt, pris in produkter.items():\n",
    "                print(produkt,\":\",pris)\n",
    "        elif val==5:\n",
    "            print(\"\\nProgrammet avsultas, hejdå!\")\n",
    "            break\n",
    "        else:\n",
    "            print(\"\\nvänligen gör ett giltligt val.\")\n",
    "    except ValueError:\n",
    "        print('\\nAnge endast heltal.')"
   ]
  },
  {
   "cell_type": "code",
   "execution_count": null,
   "id": "0b900a8d-dc70-4119-a160-212cbed6d674",
   "metadata": {},
   "outputs": [],
   "source": []
  }
 ],
 "metadata": {
  "kernelspec": {
   "display_name": "Python 3 (ipykernel)",
   "language": "python",
   "name": "python3"
  },
  "language_info": {
   "codemirror_mode": {
    "name": "ipython",
    "version": 3
   },
   "file_extension": ".py",
   "mimetype": "text/x-python",
   "name": "python",
   "nbconvert_exporter": "python",
   "pygments_lexer": "ipython3",
   "version": "3.12.7"
  }
 },
 "nbformat": 4,
 "nbformat_minor": 5
}
